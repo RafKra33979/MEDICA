{
  "nbformat": 4,
  "nbformat_minor": 0,
  "metadata": {
    "colab": {
      "provenance": [],
      "authorship_tag": "ABX9TyNscMjaBECFzv5UkGY0ZaK2",
      "include_colab_link": true
    },
    "kernelspec": {
      "name": "python3",
      "display_name": "Python 3"
    },
    "language_info": {
      "name": "python"
    }
  },
  "cells": [
    {
      "cell_type": "markdown",
      "metadata": {
        "id": "view-in-github",
        "colab_type": "text"
      },
      "source": [
        "<a href=\"https://colab.research.google.com/github/RafKra33979/MEDICA/blob/main/Untitled0.ipynb\" target=\"_parent\"><img src=\"https://colab.research.google.com/assets/colab-badge.svg\" alt=\"Open In Colab\"/></a>"
      ]
    },
    {
      "cell_type": "code",
      "source": [
        "!pip install flask flask_sqlalchemy pyngrok\n"
      ],
      "metadata": {
        "colab": {
          "base_uri": "https://localhost:8080/"
        },
        "id": "8jGj2kEVaXLq",
        "outputId": "f2170656-f765-4394-c9d1-fe60a7970373"
      },
      "execution_count": null,
      "outputs": [
        {
          "output_type": "stream",
          "name": "stdout",
          "text": [
            "Requirement already satisfied: flask in /usr/local/lib/python3.11/dist-packages (3.1.0)\n",
            "Collecting flask_sqlalchemy\n",
            "  Downloading flask_sqlalchemy-3.1.1-py3-none-any.whl.metadata (3.4 kB)\n",
            "Collecting pyngrok\n",
            "  Downloading pyngrok-7.2.4-py3-none-any.whl.metadata (8.7 kB)\n",
            "Requirement already satisfied: Werkzeug>=3.1 in /usr/local/lib/python3.11/dist-packages (from flask) (3.1.3)\n",
            "Requirement already satisfied: Jinja2>=3.1.2 in /usr/local/lib/python3.11/dist-packages (from flask) (3.1.6)\n",
            "Requirement already satisfied: itsdangerous>=2.2 in /usr/local/lib/python3.11/dist-packages (from flask) (2.2.0)\n",
            "Requirement already satisfied: click>=8.1.3 in /usr/local/lib/python3.11/dist-packages (from flask) (8.1.8)\n",
            "Requirement already satisfied: blinker>=1.9 in /usr/local/lib/python3.11/dist-packages (from flask) (1.9.0)\n",
            "Requirement already satisfied: sqlalchemy>=2.0.16 in /usr/local/lib/python3.11/dist-packages (from flask_sqlalchemy) (2.0.40)\n",
            "Requirement already satisfied: PyYAML>=5.1 in /usr/local/lib/python3.11/dist-packages (from pyngrok) (6.0.2)\n",
            "Requirement already satisfied: MarkupSafe>=2.0 in /usr/local/lib/python3.11/dist-packages (from Jinja2>=3.1.2->flask) (3.0.2)\n",
            "Requirement already satisfied: greenlet>=1 in /usr/local/lib/python3.11/dist-packages (from sqlalchemy>=2.0.16->flask_sqlalchemy) (3.1.1)\n",
            "Requirement already satisfied: typing-extensions>=4.6.0 in /usr/local/lib/python3.11/dist-packages (from sqlalchemy>=2.0.16->flask_sqlalchemy) (4.13.1)\n",
            "Downloading flask_sqlalchemy-3.1.1-py3-none-any.whl (25 kB)\n",
            "Downloading pyngrok-7.2.4-py3-none-any.whl (23 kB)\n",
            "Installing collected packages: pyngrok, flask_sqlalchemy\n",
            "Successfully installed flask_sqlalchemy-3.1.1 pyngrok-7.2.4\n"
          ]
        }
      ]
    },
    {
      "cell_type": "code",
      "source": [
        "from pyngrok import ngrok\n",
        "\n",
        "# 👇 Wklej swój authtoken z https://dashboard.ngrok.com/get-started/your-authtoken\n",
        "ngrok.set_auth_token(\"2vma23PLepqU0z5m1TanxkBNrtT_3gAiVgQcQFVcADJXwDiXu\")\n"
      ],
      "metadata": {
        "colab": {
          "base_uri": "https://localhost:8080/"
        },
        "id": "wM_seVIPacPq",
        "outputId": "c7ecb9f4-90e4-4af2-eac0-14d4e38d256d"
      },
      "execution_count": null,
      "outputs": [
        {
          "output_type": "stream",
          "name": "stdout",
          "text": []
        }
      ]
    },
    {
      "cell_type": "code",
      "source": [
        "from flask import Flask, render_template_string, request, redirect, url_for\n",
        "from flask_sqlalchemy import SQLAlchemy\n",
        "from pyngrok import ngrok\n",
        "from threading import Thread\n",
        "\n",
        "# Inicjalizacja aplikacji Flask\n",
        "app = Flask(__name__)\n",
        "\n",
        "# Konfiguracja bazy danych\n",
        "app.config['SQLALCHEMY_DATABASE_URI'] = 'sqlite:///users.db'  # Baza SQLite\n",
        "app.config['SQLALCHEMY_TRACK_MODIFICATIONS'] = False  # Optymalizacja\n",
        "db = SQLAlchemy(app)\n",
        "\n",
        "# Model bazy danych - tabela \"User\"\n",
        "class User(db.Model):\n",
        "    id = db.Column(db.Integer, primary_key=True)\n",
        "    name = db.Column(db.String(150), nullable=False)\n",
        "    email = db.Column(db.String(150), nullable=False, unique=True)\n",
        "\n",
        "# Strona główna z formularzem\n",
        "@app.route(\"/\", methods=[\"GET\", \"POST\"])\n",
        "def home():\n",
        "    if request.method == \"POST\":\n",
        "        name = request.form['name']\n",
        "        email = request.form['email']\n",
        "\n",
        "        # Tworzymy nowego użytkownika\n",
        "        new_user = User(name=name, email=email)\n",
        "\n",
        "        try:\n",
        "            db.session.add(new_user)  # Dodanie użytkownika do bazy danych\n",
        "            db.session.commit()  # Zatwierdzenie zmian\n",
        "            return redirect(\"/\")  # Przekierowanie na stronę główną\n",
        "        except:\n",
        "            db.session.rollback()  # W razie błędu wycofanie transakcji\n",
        "            return \"Błąd podczas dodawania użytkownika do bazy danych.\"\n",
        "\n",
        "    # Pobieramy wszystkich użytkowników z bazy danych\n",
        "    users = User.query.all()\n",
        "    return render_template_string('''\n",
        "        <h1>Dodaj nowego użytkownika</h1>\n",
        "        <form method=\"POST\">\n",
        "            <label for=\"name\">Imię:</label>\n",
        "            <input type=\"text\" name=\"name\" required><br><br>\n",
        "            <label for=\"email\">Email:</label>\n",
        "            <input type=\"email\" name=\"email\" required><br><br>\n",
        "            <button type=\"submit\">Dodaj użytkownika</button>\n",
        "        </form>\n",
        "\n",
        "        <h2>Lista użytkowników</h2>\n",
        "        <ul>\n",
        "            {% for user in users %}\n",
        "                <li>{{ user.name }} - {{ user.email }}</li>\n",
        "            {% endfor %}\n",
        "        </ul>\n",
        "    ''', users=users)\n",
        "\n",
        "# Funkcja uruchamiająca serwer Flask\n",
        "def run():\n",
        "    app.run(port=5000)\n",
        "\n",
        "# Funkcja uruchamiająca ngrok\n",
        "def start_ngrok():\n",
        "    public_url = ngrok.connect(5000)  # Tworzenie tunelu przez ngrok\n",
        "    print(\"🔗 Publiczny adres aplikacji:\", public_url)\n",
        "\n",
        "# Funkcje uruchamiane równolegle\n",
        "def start_server():\n",
        "    with app.app_context():  # Używamy kontekstu aplikacji\n",
        "        db.create_all()  # Tworzymy bazę danych, jeśli jeszcze nie istnieje\n",
        "        Thread(target=run).start()  # Uruchamiamy serwer Flask\n",
        "        start_ngrok()  # Uruchamiamy ngrok\n",
        "\n",
        "# Uruchomienie aplikacji\n",
        "start_server()\n"
      ],
      "metadata": {
        "id": "F6UEApOKah9C",
        "outputId": "e79159d3-759a-4cc2-a570-b2deb8b5d0ea",
        "colab": {
          "base_uri": "https://localhost:8080/"
        }
      },
      "execution_count": null,
      "outputs": [
        {
          "output_type": "stream",
          "name": "stdout",
          "text": [
            " * Serving Flask app '__main__'\n",
            " * Debug mode: off\n"
          ]
        },
        {
          "output_type": "stream",
          "name": "stderr",
          "text": [
            "INFO:werkzeug:\u001b[31m\u001b[1mWARNING: This is a development server. Do not use it in a production deployment. Use a production WSGI server instead.\u001b[0m\n",
            " * Running on http://127.0.0.1:5000\n",
            "INFO:werkzeug:\u001b[33mPress CTRL+C to quit\u001b[0m\n"
          ]
        },
        {
          "output_type": "stream",
          "name": "stdout",
          "text": [
            "🔗 Publiczny adres aplikacji: NgrokTunnel: \"https://1d34-35-230-123-95.ngrok-free.app\" -> \"http://localhost:5000\"\n"
          ]
        }
      ]
    }
  ]
}